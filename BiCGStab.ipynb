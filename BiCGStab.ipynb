{
  "nbformat": 4,
  "nbformat_minor": 0,
  "metadata": {
    "colab": {
      "name": "BiCGStab.ipynb",
      "provenance": []
    },
    "kernelspec": {
      "name": "python3",
      "display_name": "Python 3"
    },
    "language_info": {
      "name": "python"
    }
  },
  "cells": [
    {
      "cell_type": "markdown",
      "source": [
        "# **Стабилизированный метод бисопряженных градиентов** (Biconjugate gradient stabilized method, BiCGStab)\n",
        "BiCGStab является итерационным методом решения систем линейных алгебраических уравнений крыловского типа. Его можно применять к матрицам общего вида, в том числе над $\\mathbb{C}$. В процессе выполнения он не использует для вычисления тяжелых для распараллеливания операций (транспонирования матриц, нахождения обратной матрицы и т.п.), а также не допускает накопления погрешностей округления, что делает его **стабильным** алгоритмом. К преимуществам так же можно добавить более высокую в общем случае скорость сходимости относительно более простых методов. Тем не менее, для некоторых видов СЛАУ BiCGStab может уступать им в скорости работы.\n",
        "\n",
        "BiCGStab относится к классу так называемых **проекционных методов**. Основная идея методов данного класса: искать итерационным способом наилучшее приближение решения в некотором подпространстве пространства $\\mathbb{R}^n$. В качестве такого подпространства используются пространства Крылова, порожденные матрицей системы.\n",
        "\n",
        "Метод основан на построении биортогонального базиса $p_1, p_2, ..., p_k, ...$ пространства Крылова $K^k(A, r_0)$, где $A$ - матрица системы, $r_0$ - вектор невязки на нулевой итерации ($r_0 = b - Ax_0$), и дальнейшем вычислении поправки такой, что приближение на очередной итерации было бы ортогонально второму подпространству Крылова $K^k(A, \\hat{r_0}$, где $\\hat{r_0}$ - произвольный вектор, скалярное произведение которого с $r_0 \\neq 0$ ($(r_0, \\hat{r_0}) \\neq 0)$. Базисные вектора строятся до достижения установленных критериев остановки (как правило, это достижение невязкой некоторого наперед заданного достаточно малого $\\varepsilon$, что означает достижения некоторой окрестности решения), а каждое последующее приближение формируется как сумма приближения с предыдущей итерации и найденной поправки. \n",
        "\n",
        "Для решения СЛАУ вида $Ax = b$, где $A$ - комплексная матрица, стабилизированным методом бисопряженных градиентов может использоваться следующий алгоритм: \n",
        "\n",
        "**Перед итерационным процессом:** \n",
        "1. выбрать начальное приближение $x_0$ \n",
        "2. $r_0 = b - Ax_0$ \n",
        "3. выбрать произвольный вектор $\\hat{r_0}$, т.ч. $(\\hat{r_0}, r_0) \\neq 0$, например, $\\hat{r_0} = r_0$ (здесь $(x, y) = x^Ty)$ \n",
        "4. $\\rho_0 = \\alpha_0 = w_0 = 1$ \n",
        "5. $v_0 = p_0 = 0$\n",
        "**$k$-я итерация метода** \n",
        "1. $\\rho_k = (\\hat{r_0}, r_{k-1})$ \n",
        "2. $\\beta_k = \\frac{\\rho_k}{\\rho_{k-1}} \\cdot \\frac{\\alpha_{k-1}}{w_{k-1}}$ \n",
        "3. $p_k = r_{k-1} + \\beta_k (p_{k-1} - w_{k-1} \\cdot v_{k-1})$ \n",
        "4. $v_k = Ap_k$ \n",
        "5. $\\alpha_k = \\frac{\\rho_k}{(\\hat{r_0}, v_k)}$ \n",
        "6. $s_k = r_{k-1} - \\alpha_k \\cdot v_k$\n",
        "7. $t_k = As_k$ \n",
        "8. $w_k = \\frac{(t_k, s_k)}{(t_k, t_k)}$\n",
        "9. $x_k =  x_{k-1} + \\alpha_k \\cdot p_k + w_k \\cdot s_k$.\n",
        "10. $r_k = s_k - w_k \\cdot t_k$\n",
        "\n",
        "**Критерии остановки:** \n",
        "1. ограниченное число итерацией ($k \\leq k_{max}$) \n",
        "2. заданная невязка ($\\frac{||r_k||}{||b||} < \\varepsilon$) \n",
        "3. величина $|w_k| < \\varepsilon_w$"
      ],
      "metadata": {
        "id": "CK0hD1eXyA0p"
      }
    },
    {
      "cell_type": "code",
      "source": [
        "import numpy as np\n",
        "import numpy.linalg as linalg\n",
        "import matplotlib.pyplot as plt"
      ],
      "metadata": {
        "id": "wrao77pCOV20"
      },
      "execution_count": 1,
      "outputs": []
    },
    {
      "cell_type": "code",
      "source": [
        "def BiCGStab(A, b, eps, max_steps= 1000, x0=None):\n",
        "  # если начальное значение x0 не задано, то x0 = [0, ... 0].T\n",
        "  if x0 is None:\n",
        "    x0 = np.zeros_like(b)\n",
        "  r = b - A.dot(x0)\n",
        "  r_hat = r\n",
        "  rho = alpha = w = 1\n",
        "  v = p = 0\n",
        "  steps = 0\n",
        "  rho_prev = rho\n",
        "  x = x0\n",
        "\n",
        "  while linalg.norm(r) >= eps and steps < max_steps:\n",
        "    steps += 1\n",
        "    rho = r_hat.dot(r)\n",
        "    beta = (rho / rho_prev) * (alpha / w)\n",
        "    rho_prev = rho\n",
        "\n",
        "    # обновляем р в 3 действия, зато не храним его предыдущее значение!\n",
        "    p *= beta\n",
        "    p -= beta * w * v\n",
        "    p += r\n",
        "\n",
        "    v = A.dot(p)\n",
        "    alpha = rho / (r_hat.dot(v))\n",
        "    h = x + alpha * p\n",
        "    s = r - alpha * v\n",
        "    if linalg.norm(s) <= eps:\n",
        "      x = h\n",
        "      break\n",
        "    t = A.dot(s)\n",
        "    w = t.dot(s) / t.dot(t)\n",
        "    x = h + w * s\n",
        "    r = s - w * t\n",
        "  \n",
        "  return [x, steps]"
      ],
      "metadata": {
        "id": "d-MDD3mr6vUV"
      },
      "execution_count": 2,
      "outputs": []
    },
    {
      "cell_type": "markdown",
      "source": [
        "Проверим, работает ли вообще метод:"
      ],
      "metadata": {
        "id": "9za0Ky_CiXaQ"
      }
    },
    {
      "cell_type": "code",
      "source": [
        "A = np.array([[1, 1, 5], [-3, 4, 0], [7, 3, -2]])\n",
        "b = np.array([1, 1, 1]).T\n",
        "x0 = np.array([1, 1, 1])\n",
        "solution_first = BiCGStab(A, b, 1e-3, 1000, x0)\n",
        "print(np.allclose(A.dot(solution_first[0]), b))"
      ],
      "metadata": {
        "colab": {
          "base_uri": "https://localhost:8080/"
        },
        "id": "4TO2b7hGfGYL",
        "outputId": "d773ed0e-6c4e-490c-f337-c2fdc9fad33b"
      },
      "execution_count": 3,
      "outputs": [
        {
          "output_type": "stream",
          "name": "stdout",
          "text": [
            "True\n"
          ]
        }
      ]
    },
    {
      "cell_type": "markdown",
      "source": [
        "Сравним с решением, полученным при помощи `np.linalg.solve`"
      ],
      "metadata": {
        "id": "wzrkNBKYqnvV"
      }
    },
    {
      "cell_type": "code",
      "source": [
        "print(np.allclose(linalg.solve(A, b), solution_first[0]))"
      ],
      "metadata": {
        "colab": {
          "base_uri": "https://localhost:8080/"
        },
        "id": "RJYmfMGeqnME",
        "outputId": "76a9ac88-fbdd-4369-ece0-8f0fcc6b5e40"
      },
      "execution_count": 4,
      "outputs": [
        {
          "output_type": "stream",
          "name": "stdout",
          "text": [
            "True\n"
          ]
        }
      ]
    },
    {
      "cell_type": "markdown",
      "source": [
        "Реализуем также **обычный метод бисопряженных градиентов**. Сам алгоритм (для действительных матриц) выглядит так: \\\\\n",
        "**Перед итерационным процессом:**\n",
        "1. выбрать начальное приближение $x_0$\n",
        "2. $r_0 = b - Ax_0$\n",
        "3. $p_0 = r_0$\n",
        "4. $z_0 = r_0$\n",
        "5. $x_0 = r_0$\n",
        "**$k$-я итерация алгоритма:**\n",
        "1. $\\alpha_k = \\frac{(p_{k-1}, r_{k-1})}{(s_{k-1}, Az_{k-1})}$\n",
        "2. $x_k = x_{k-1} + \\alpha_k \\cdot z_{k-1}$\n",
        "3. $r_k = r_{k-1} - \\alpha_kAz_{k-1}$\n",
        "4. $p_k = p_{k-1} - \\alpha_kA^Ts_{k-1}$\n",
        "5. $\\beta_k = \\frac{(p_k, r_k)}{(p_{k-1}, r_{k-1})}$\n",
        "6. $z_k = r_k + \\beta_k \\cdot z_{k-1}$\n",
        "7. $s_k = p_k + \\beta_k \\cdot s_{k-1}$"
      ],
      "metadata": {
        "id": "aWvOc_vMr9ha"
      }
    },
    {
      "cell_type": "code",
      "source": [
        "def BiCG(A, b, eps, max_steps=1000, x0=None):\n",
        "  if x0 is None:\n",
        "    x0 = np.zeros_like(b)\n",
        "  x = x0\n",
        "  r = b - A.dot(x0)\n",
        "  p = z = s = r\n",
        "  steps = 0\n",
        "  while np.linalg.norm(r) >= eps and steps < max_steps:\n",
        "    alpha = p.dot(r) / s.dot(A.dot(z))\n",
        "    x = x + alpha * z\n",
        "    prev_mul = p.dot(r)\n",
        "    r = r - alpha * A.dot(z)\n",
        "    p = p - alpha * A.T.dot(s)\n",
        "    beta = p.dot(r) / prev_mul\n",
        "    z = r + beta * z\n",
        "    s = p + beta * s\n",
        "    steps += 1\n",
        "  return [x, steps]"
      ],
      "metadata": {
        "id": "u66Slb0IsE-v"
      },
      "execution_count": 5,
      "outputs": []
    },
    {
      "cell_type": "code",
      "source": [
        "solution_second = BiCG(A, b, 1e-3, 1000, x0)\n",
        "print(np.allclose(A.dot(solution_second[0]), b))"
      ],
      "metadata": {
        "colab": {
          "base_uri": "https://localhost:8080/"
        },
        "id": "PLYOS1wdOE2q",
        "outputId": "8f7e0702-cbb8-4a8f-ddce-96249f223af8"
      },
      "execution_count": 6,
      "outputs": [
        {
          "output_type": "stream",
          "name": "stdout",
          "text": [
            "True\n"
          ]
        }
      ]
    },
    {
      "cell_type": "code",
      "source": [
        "print(np.allclose(linalg.solve(A, b), solution_second[0]))"
      ],
      "metadata": {
        "colab": {
          "base_uri": "https://localhost:8080/"
        },
        "id": "CiCOpXFuOMq9",
        "outputId": "18197ad8-82a8-438d-e25e-1c96c2643f02"
      },
      "execution_count": 7,
      "outputs": [
        {
          "output_type": "stream",
          "name": "stdout",
          "text": [
            "True\n"
          ]
        }
      ]
    },
    {
      "cell_type": "markdown",
      "source": [
        "Итак, оба алгоритма прекрасно работают."
      ],
      "metadata": {
        "id": "p1R9iP_Ay_zO"
      }
    }
  ]
}