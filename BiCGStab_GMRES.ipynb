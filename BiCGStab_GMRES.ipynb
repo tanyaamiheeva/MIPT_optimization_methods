{
  "nbformat": 4,
  "nbformat_minor": 0,
  "metadata": {
    "colab": {
      "name": "BiCGStab_GMRES.ipynb",
      "provenance": []
    },
    "kernelspec": {
      "name": "python3",
      "display_name": "Python 3"
    },
    "language_info": {
      "name": "python"
    }
  },
  "cells": [
    {
      "cell_type": "markdown",
      "source": [
        "# **Стабилизированный метод бисопряженных градиентов** (Biconjugate gradient stabilized method, BiCGStab)\n",
        "BiCGStab является итерационным методом решения систем линейных алгебраических уравнений крыловского типа. Его можно применять к матрицам общего вида, в том числе над $\\mathbb{C}$. В процессе выполнения он не использует для вычисления тяжелых для распараллеливания операций (транспонирования матриц, нахождения обратной матрицы и т.п.), а также не допускает накопления погрешностей округления, что делает его **стабильным** алгоритмом. К преимуществам так же можно добавить более высокую в общем случае скорость сходимости относительно более простых методов. Тем не менее, для некоторых видов СЛАУ BiCGStab может уступать им в скорости работы.\n",
        "\n",
        "BiCGStab относится к классу так называемых **проекционных методов**. Основная идея методов данного класса: искать итерационным способом наилучшее приближение решения в некотором подпространстве пространства $\\mathbb{R}^n$. В качестве такого подпространства используются пространства Крылова, порожденные матрицей системы.\n",
        "\n",
        "Метод основан на построении биортогонального базиса $p_1, p_2, ..., p_k, ...$ пространства Крылова $K^k(A, r_0)$, где $A$ - матрица системы, $r_0$ - вектор невязки на нулевой итерации ($r_0 = b - Ax_0$), и дальнейшем вычислении поправки такой, что приближение на очередной итерации было бы ортогонально второму подпространству Крылова $K^k(A, \\hat{r_0}$, где $\\hat{r_0}$ - произвольный вектор, скалярное произведение которого с $r_0 \\neq 0$ ($(r_0, \\hat{r_0}) \\neq 0)$. Базисные вектора строятся до достижения установленных критериев остановки (как правило, это достижение невязкой некоторого наперед заданного достаточно малого $\\varepsilon$, что означает достижения некоторой окрестности решения), а каждое последующее приближение формируется как сумма приближения с предыдущей итерации и найденной поправки. \n",
        "\n",
        "Для решения СЛАУ вида $Ax = b$, где $A$ - комплексная матрица, стабилизированным методом бисопряженных градиентов может использоваться следующий алгоритм: \n",
        "\n",
        "**Перед итерационным процессом:** \n",
        "1. выбрать начальное приближение $x_0$ \n",
        "2. $r_0 = b - Ax_0$ \n",
        "3. выбрать произвольный вектор $\\hat{r_0}$, т.ч. $(\\hat{r_0}, r_0) \\neq 0$, например, $\\hat{r_0} = r_0$ (здесь $(x, y) = x^Ty)$ \n",
        "4. $\\rho_0 = \\alpha_0 = w_0 = 1$ \n",
        "5. $v_0 = p_0 = 0$\n",
        "**$k$-я итерация метода** \n",
        "1. $\\rho_k = (\\hat{r_0}, r_{k-1})$ \n",
        "2. $\\beta_k = \\frac{\\rho_k}{\\rho_{k-1}} \\cdot \\frac{\\alpha_{k-1}}{w_{k-1}}$ \n",
        "3. $p_k = r_{k-1} + \\beta_k (p_{k-1} - w_{k-1} \\cdot v_{k-1})$ \n",
        "4. $v_k = Ap_k$ \n",
        "5. $\\alpha_k = \\frac{\\rho_k}{(\\hat{r_0}, v_k)}$ \n",
        "6. $s_k = r_{k-1} - \\alpha_k \\cdot v_k$\n",
        "7. $t_k = As_k$ \n",
        "8. $w_k = \\frac{(t_k, s_k)}{(t_k, t_k)}$\n",
        "9. $x_k =  x_{k-1} + \\alpha_k \\cdot p_k + w_k \\cdot s_k$.\n",
        "10. $r_k = s_k - w_k \\cdot t_k$\n",
        "\n",
        "**Критерии остановки:** \n",
        "1. ограниченное число итерацией ($k \\leq k_{max}$) \n",
        "2. заданная невязка ($\\frac{||r_k||}{||b||} < \\varepsilon$) \n",
        "3. величина $|w_k| < \\varepsilon_w$"
      ],
      "metadata": {
        "id": "CK0hD1eXyA0p"
      }
    },
    {
      "cell_type": "code",
      "source": [
        "import numpy as np\n",
        "import numpy.linalg as linalg\n",
        "import matplotlib.pyplot as plt"
      ],
      "metadata": {
        "id": "wrao77pCOV20"
      },
      "execution_count": 1,
      "outputs": []
    },
    {
      "cell_type": "code",
      "source": [
        "def BiCGStab(A, b, eps, max_steps= 1000, x0=None):\n",
        "  # если начальное значение x0 не задано, то x0 = [0, ... 0].T\n",
        "  if x0 is None:\n",
        "    x0 = np.zeros_like(b)\n",
        "  r = b - A.dot(x0)\n",
        "  r_hat = r\n",
        "  rho = alpha = w = 1\n",
        "  v = p = 0\n",
        "  steps = 0\n",
        "  rho_prev = rho\n",
        "  x = x0\n",
        "\n",
        "  while linalg.norm(r) >= eps and steps < max_steps:\n",
        "    steps += 1\n",
        "    rho = r_hat.dot(r)\n",
        "    beta = (rho / rho_prev) * (alpha / w)\n",
        "    rho_prev = rho\n",
        "\n",
        "    # обновляем р в 3 действия, зато не храним его предыдущее значение!\n",
        "    p *= beta\n",
        "    p -= beta * w * v\n",
        "    p += r\n",
        "\n",
        "    v = A.dot(p)\n",
        "    alpha = rho / (r_hat.dot(v))\n",
        "    h = x + alpha * p\n",
        "    s = r - alpha * v\n",
        "    if linalg.norm(s) <= eps:\n",
        "      x = h\n",
        "      break\n",
        "    t = A.dot(s)\n",
        "    w = t.dot(s) / t.dot(t)\n",
        "    x = h + w * s\n",
        "    r = s - w * t\n",
        "  \n",
        "  return [x, steps]"
      ],
      "metadata": {
        "id": "d-MDD3mr6vUV"
      },
      "execution_count": 2,
      "outputs": []
    },
    {
      "cell_type": "markdown",
      "source": [
        "Проверим, работает ли вообще метод:"
      ],
      "metadata": {
        "id": "9za0Ky_CiXaQ"
      }
    },
    {
      "cell_type": "code",
      "source": [
        "A = np.array([[1, 1, 5], [-3, 4, 0], [7, 3, -2]])\n",
        "b = np.array([1, 1, 1]).T\n",
        "x0 = np.array([1, 1, 1])\n",
        "solution_first = BiCGStab(A, b, 1e-3, 1000, x0)\n",
        "print(np.allclose(A.dot(solution_first[0]), b))"
      ],
      "metadata": {
        "colab": {
          "base_uri": "https://localhost:8080/"
        },
        "id": "4TO2b7hGfGYL",
        "outputId": "487b6ce4-6b1e-4df9-9e7b-fe8cabb57fd4"
      },
      "execution_count": 3,
      "outputs": [
        {
          "output_type": "stream",
          "name": "stdout",
          "text": [
            "True\n"
          ]
        }
      ]
    },
    {
      "cell_type": "markdown",
      "source": [
        "Сравним с решением, полученным при помощи `np.linalg.solve`"
      ],
      "metadata": {
        "id": "wzrkNBKYqnvV"
      }
    },
    {
      "cell_type": "code",
      "source": [
        "print(np.allclose(linalg.solve(A, b), solution_first[0]))"
      ],
      "metadata": {
        "colab": {
          "base_uri": "https://localhost:8080/"
        },
        "id": "RJYmfMGeqnME",
        "outputId": "8f29ce9a-638d-4ae8-d7fd-db15160fb662"
      },
      "execution_count": 4,
      "outputs": [
        {
          "output_type": "stream",
          "name": "stdout",
          "text": [
            "True\n"
          ]
        }
      ]
    },
    {
      "cell_type": "markdown",
      "source": [
        "Реализуем также **обычный метод бисопряженных градиентов**. Сам алгоритм (для действительных матриц) выглядит так: \\\\\n",
        "**Перед итерационным процессом:**\n",
        "1. выбрать начальное приближение $x_0$\n",
        "2. $r_0 = b - Ax_0$\n",
        "3. $p_0 = r_0$\n",
        "4. $z_0 = r_0$\n",
        "5. $x_0 = r_0$\n",
        "**$k$-я итерация алгоритма:**\n",
        "1. $\\alpha_k = \\frac{(p_{k-1}, r_{k-1})}{(s_{k-1}, Az_{k-1})}$\n",
        "2. $x_k = x_{k-1} + \\alpha_k \\cdot z_{k-1}$\n",
        "3. $r_k = r_{k-1} - \\alpha_kAz_{k-1}$\n",
        "4. $p_k = p_{k-1} - \\alpha_kA^Ts_{k-1}$\n",
        "5. $\\beta_k = \\frac{(p_k, r_k)}{(p_{k-1}, r_{k-1})}$\n",
        "6. $z_k = r_k + \\beta_k \\cdot z_{k-1}$\n",
        "7. $s_k = p_k + \\beta_k \\cdot s_{k-1}$"
      ],
      "metadata": {
        "id": "aWvOc_vMr9ha"
      }
    },
    {
      "cell_type": "code",
      "source": [
        "def BiCG(A, b, eps, max_steps=1000, x0=None):\n",
        "  if x0 is None:\n",
        "    x0 = np.zeros_like(b)\n",
        "  x = x0\n",
        "  r = b - A.dot(x0)\n",
        "  p = z = s = r\n",
        "  steps = 0\n",
        "  while np.linalg.norm(r) >= eps and steps < max_steps:\n",
        "    alpha = p.dot(r) / s.dot(A.dot(z))\n",
        "    x = x + alpha * z\n",
        "    prev_mul = p.dot(r)\n",
        "    r = r - alpha * A.dot(z)\n",
        "    p = p - alpha * A.T.dot(s)\n",
        "    beta = p.dot(r) / prev_mul\n",
        "    z = r + beta * z\n",
        "    s = p + beta * s\n",
        "    steps += 1\n",
        "  return [x, steps]"
      ],
      "metadata": {
        "id": "u66Slb0IsE-v"
      },
      "execution_count": 5,
      "outputs": []
    },
    {
      "cell_type": "code",
      "source": [
        "solution_second = BiCG(A, b, 1e-3, 1000, x0)\n",
        "print(np.allclose(A.dot(solution_second[0]), b))"
      ],
      "metadata": {
        "colab": {
          "base_uri": "https://localhost:8080/"
        },
        "id": "PLYOS1wdOE2q",
        "outputId": "0e275c3a-5c9b-44f8-bbe9-b8c20bd83e83"
      },
      "execution_count": 6,
      "outputs": [
        {
          "output_type": "stream",
          "name": "stdout",
          "text": [
            "True\n"
          ]
        }
      ]
    },
    {
      "cell_type": "code",
      "source": [
        "print(np.allclose(linalg.solve(A, b), solution_second[0]))"
      ],
      "metadata": {
        "colab": {
          "base_uri": "https://localhost:8080/"
        },
        "id": "CiCOpXFuOMq9",
        "outputId": "43697322-61b7-4335-e092-c40e004dae51"
      },
      "execution_count": 7,
      "outputs": [
        {
          "output_type": "stream",
          "name": "stdout",
          "text": [
            "True\n"
          ]
        }
      ]
    },
    {
      "cell_type": "markdown",
      "source": [
        "# Рассмотрим еще алгоритм GMRES - Generalized Minimum Residual Method\n",
        "\n",
        "**GMRES** - это итерационный метод решения СЛАУ $Ax = b$ с произвольной матрицей $A$ - от нее требуется только невырожденность. Данный метод опирается на итерации Арнольди для нахождения минимизирующего невязку вектора из подпространства Крылова. Имеет существенный недостаток - поитерационное увеличение объема требуемой памяти, однако существует также версия алгоритма с рестартами, их использование позволяет существенно сократить объемы необходимой памяти. \n",
        "\n",
        "Основная идея - решение задачи наименьших квадратов на каждом шаге. Каждая итерация выглядит следующим образом: решение $x_k$ рассматривается в виде $x_0+Vy_k$, где столбцы $v_k$ матрицы $V$ находятся с помощью процесса Арнольди для построения ортонормированного базиса $(v_1,v_2,…,v_k)$ подпространства Крылова $K^k$($A,v_1$), вектор $y_k$ представляет собой решение системы $H_ky_k = \\beta_ke_1$, где $H_k$ - верхняя матрица Хессенберга размера $k×k$, элементы которой формируются в процессе ортогонализации Арнольди, $\\beta_k=∥r_0∥_2$, $r_0 = b − Ax_0$.\n",
        "\n",
        "**Процесс ортогонализации Арнольди**: пусть $v_1$ - начальный вектор с единичной нормой, $k$ - размерность пр-ва. Каждый шаг процесса выглядит так:\n",
        "1. $w = Av_j$\n",
        "2. $h_{ij} = (w, v_i)$\n",
        "3. $w = w - h_{ij}v_i$\n",
        "4. $h_{(i + 1)j} = ||w||$\n",
        "5. $v_{j+1} = \\frac{w}{h_{(i+1)j}}$ \n",
        "($j = \\overline{{1, k}}, i = \\overline{{1, j}})$\n",
        "\n",
        "**Минимизация нормы невязки** (решение задачи наименьших квадратов): невязка на $k$-й итерации имеет вид: $r_k = \\beta e_1 - H_k y_k$. Очевидно, что $||r_k||_2 \\rightarrow min$ при $H_k y_k = \\beta e_1$ - осталось решить эту систему. В своей реализации для ее решения я буду использовать встроенную функцию из модуля `np.linalg`"
      ],
      "metadata": {
        "id": "p1R9iP_Ay_zO"
      }
    },
    {
      "cell_type": "markdown",
      "source": [
        "![picture](https://drive.google.com/uc?export=view&id=1fTxEyVUJPHMyrYJ9kv5Piur2jGywW2VS)"
      ],
      "metadata": {
        "id": "g7Xd-3GPKJCA"
      }
    },
    {
      "cell_type": "code",
      "source": [
        "def GMRes(A, b, x0, max_steps):\n",
        "    r = b - np.array(np.dot(A, x0)).reshape(-1)\n",
        "    x = []\n",
        "    q = [0] * (max_steps)\n",
        "    x.append(r)\n",
        "    q[0] = r / np.linalg.norm(r)\n",
        "    h = np.zeros((max_steps + 1, max_steps))\n",
        "    for k in range(max_steps):\n",
        "        y = np.array(np.dot(A, q[k])).reshape(-1)\n",
        "        for j in range(k):\n",
        "            h[j, k] = np.dot(q[j], y)\n",
        "            y = y - h[j, k] * q[j]\n",
        "        h[k + 1, k] = np.linalg.norm(y)\n",
        "        if (h[k + 1, k] != 0 and k != max_steps - 1):\n",
        "            q[k + 1] = y / h[k + 1, k]\n",
        "        b = np.zeros(max_steps + 1)\n",
        "        b[0] = np.linalg.norm(r)\n",
        "        result = np.linalg.lstsq(h, b)[0]\n",
        "        x.append(np.dot(np.array(q).T, result) + x0)\n",
        "    return x"
      ],
      "metadata": {
        "id": "rZu9stUxKPUb"
      },
      "execution_count": 56,
      "outputs": []
    },
    {
      "cell_type": "code",
      "source": [
        "A = np.array([[1, 1], [3, -4]])\n",
        "b = np.array([3, 2])\n",
        "x0 = np.array([1, 2])\n",
        "max_steps = 5\n",
        "x = GMRes(A, b, x0, max_steps)\n",
        "print(x[-1])"
      ],
      "metadata": {
        "colab": {
          "base_uri": "https://localhost:8080/"
        },
        "id": "9soAvyQ3LRsS",
        "outputId": "735599c7-fc5e-493f-8d99-3977976af81c"
      },
      "execution_count": 57,
      "outputs": [
        {
          "output_type": "stream",
          "name": "stdout",
          "text": [
            "[2.01621042 0.95180204]\n"
          ]
        }
      ]
    },
    {
      "cell_type": "markdown",
      "source": [
        "Решением системы является $x = 2, y = 1$, поэтому GMRES действительно приближает верное решение, однако точность намного хуже, чем у метода бисопряженных градиентов. Проверим на матрице большей размерности, используя реализацию из `scipy`"
      ],
      "metadata": {
        "id": "lFEz_YgGMysl"
      }
    },
    {
      "cell_type": "code",
      "source": [
        "from scipy.sparse import csc_matrix\n",
        "from scipy.sparse.linalg import gmres\n",
        "import time\n",
        "\n",
        "A = np.random.rand(20, 20)\n",
        "b = np.random.rand(20)\n",
        "x0 = np.ones(20)\n",
        "start = time.process_time()\n",
        "x, exitCode = gmres(A, b)\n",
        "end = time.process_time()\n",
        "print(np.allclose(A.dot(x), b))\n",
        "print('Время работы: ', end - start)"
      ],
      "metadata": {
        "colab": {
          "base_uri": "https://localhost:8080/"
        },
        "id": "URTe9TIGNbKQ",
        "outputId": "3f0035a9-5c05-444c-f8b5-63ac8ba84673"
      },
      "execution_count": 101,
      "outputs": [
        {
          "output_type": "stream",
          "name": "stdout",
          "text": [
            "True\n",
            "Время работы:  0.0014295039999971948\n"
          ]
        }
      ]
    },
    {
      "cell_type": "code",
      "source": [
        "start = time.process_time()\n",
        "solution_second = BiCG(A, b, 1e-3, 1000, x0)\n",
        "end = time.process_time()\n",
        "print(np.allclose(A.dot(solution_second[0]), b))\n",
        "print('Время работы: ', end - start)"
      ],
      "metadata": {
        "colab": {
          "base_uri": "https://localhost:8080/"
        },
        "id": "LfiIAjfaR19s",
        "outputId": "b030f409-de37-4775-b0cb-155e4d46009e"
      },
      "execution_count": 102,
      "outputs": [
        {
          "output_type": "stream",
          "name": "stdout",
          "text": [
            "True\n",
            "Время работы:  0.0023227500000011503\n"
          ]
        }
      ]
    },
    {
      "cell_type": "markdown",
      "source": [
        "Видим, что BiCG требуется чуть больше времени, чтобы найти решение. При этом оба метода действительно хорошо приближают его."
      ],
      "metadata": {
        "id": "-KJC8pwNSdPD"
      }
    }
  ]
}